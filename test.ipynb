{
 "cells": [
  {
   "cell_type": "code",
   "execution_count": 1,
   "metadata": {},
   "outputs": [
    {
     "name": "stdout",
     "output_type": "stream",
     "text": [
      "3\n"
     ]
    }
   ],
   "source": [
    "a = 1\n",
    "b = 2\n",
    "print(a+b)"
   ]
  },
  {
   "cell_type": "code",
   "execution_count": 2,
   "metadata": {},
   "outputs": [
    {
     "name": "stdout",
     "output_type": "stream",
     "text": [
      "Collecting sympy\n",
      "  Downloading sympy-1.11.1-py3-none-any.whl (6.5 MB)\n",
      "\u001b[2K     \u001b[90m━━━━━━━━━━━━━━━━━━━━━━━━━━━━━━━━━━━━━━━━\u001b[0m \u001b[32m6.5/6.5 MB\u001b[0m \u001b[31m11.8 MB/s\u001b[0m eta \u001b[36m0:00:00\u001b[0m00:01\u001b[0m00:01\u001b[0m\n",
      "\u001b[?25hCollecting mpmath>=0.19\n",
      "  Downloading mpmath-1.3.0-py3-none-any.whl (536 kB)\n",
      "\u001b[2K     \u001b[90m━━━━━━━━━━━━━━━━━━━━━━━━━━━━━━━━━━━━━━\u001b[0m \u001b[32m536.2/536.2 KB\u001b[0m \u001b[31m11.3 MB/s\u001b[0m eta \u001b[36m0:00:00\u001b[0m00:01\u001b[0m\n",
      "\u001b[?25hInstalling collected packages: mpmath, sympy\n",
      "Successfully installed mpmath-1.3.0 sympy-1.11.1\n",
      "\u001b[33mWARNING: You are using pip version 22.0.4; however, version 23.0.1 is available.\n",
      "You should consider upgrading via the '/Users/exidea258/.pyenv/versions/3.10.3/bin/python3.10 -m pip install --upgrade pip' command.\u001b[0m\u001b[33m\n",
      "\u001b[0m"
     ]
    }
   ],
   "source": [
    "!pip install sympy"
   ]
  },
  {
   "cell_type": "code",
   "execution_count": 3,
   "metadata": {},
   "outputs": [
    {
     "name": "stdout",
     "output_type": "stream",
     "text": [
      "3.141592653589793238462643383279502884197169399375105820974944592307816406286208998628034825342117068\n"
     ]
    }
   ],
   "source": [
    "import sympy\n",
    "z=sympy.pi.evalf(100)\n",
    "print(z)"
   ]
  },
  {
   "cell_type": "code",
   "execution_count": 4,
   "metadata": {},
   "outputs": [],
   "source": [
    "import numpy as np\n",
    "import requests\n",
    "from requests.exceptions import Timeout\n",
    "from bs4 import BeautifulSoup\n",
    "import io\n",
    "import re"
   ]
  },
  {
   "cell_type": "code",
   "execution_count": null,
   "metadata": {},
   "outputs": [],
   "source": [
    "urls = []\n",
    "pre_extracted_urls = []\n",
    "pre_extracted_urls.append('https://www.bbc.com/news')\n",
    "for depth in range(2):\n",
    "    print('start depth: '+str(depth)+'.........................')\n",
    "    extracted_urls = []\n",
    "    for i in range(len(pre_extracted_urls)):\n",
    "        try:\n",
    "            res = requests.get(pre_extracted_urls[i], timeout=3.0)\n",
    "        except Timeout:\n",
    "            print('Connection timeout')\n",
    "            continue\n",
    "        soup = BeautifulSoup(res.text, 'html.parser')\n",
    "        elems = soup.find_all(href=re.compile(\"/news/\"))\n",
    "        print(str(len(elems))+' URLs extracted'+'('+str(i+1)+'/'+str(len(pre_extracted_urls))+')')\n",
    "        for j in range(len(elems)):\n",
    "            url = elems[j].attrs['href']\n",
    "            if not 'http' in url:\n",
    "                extracted_urls.append('https://www.bbc.com'+url)\n",
    "            else:\n",
    "                extracted_urls.append(url)\n",
    "    extracted_urls = np.unique(extracted_urls).tolist()\n",
    "    pre_extracted_urls = extracted_urls\n",
    "    urls.extend(extracted_urls)\n",
    "    urls = np.unique(urls).tolist()\n",
    "    print('total: '+str(len(urls))+' URLs')\n",
    "print('start extracting html....')\n",
    "texts = []\n",
    "for i in range(len(urls)):\n",
    "    try:\n",
    "        res = requests.get(urls[i], timeout=3.0)\n",
    "    except Timeout:\n",
    "        print('Connection timeout')\n",
    "        continue\n",
    "    soup = BeautifulSoup(res.text, \"html.parser\")\n",
    "    elems = soup.select('#page > div > div.container > div > div.column--primary > div.story-body > div.story-body__inner > p')\n",
    "    if not len(elems) == 0:\n",
    "        for j in range(len(elems)):\n",
    "            texts.append(str(elems[j]))\n",
    "    print(str(i+1)+' / '+str(len(urls))+' finished')\n",
    "text = ' '.join(texts)\n",
    "p = re.compile(r\"<[^>]*?>\")\n",
    "text = p.sub(\"\", text)\n",
    "text = re.sub('[\"“”,—]','', text)\n",
    "text = text.lower()\n",
    "text = text.replace('. ','\\n')\n",
    "with io.open('articles_bbc2.txt', 'w', encoding='utf-8') as f:\n",
    "    f.write(text)\n",
    "with io.open('articles_bbc.txt', 'w', encoding='utf-8') as f:\n",
    "    f.write(text)"
   ]
  }
 ],
 "metadata": {
  "kernelspec": {
   "display_name": "Python 3",
   "language": "python",
   "name": "python3"
  },
  "language_info": {
   "codemirror_mode": {
    "name": "ipython",
    "version": 3
   },
   "file_extension": ".py",
   "mimetype": "text/x-python",
   "name": "python",
   "nbconvert_exporter": "python",
   "pygments_lexer": "ipython3",
   "version": "3.10.3"
  },
  "orig_nbformat": 4
 },
 "nbformat": 4,
 "nbformat_minor": 2
}
